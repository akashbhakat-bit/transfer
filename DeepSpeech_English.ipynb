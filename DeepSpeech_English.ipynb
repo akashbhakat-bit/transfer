{
 "cells": [
  {
   "cell_type": "code",
   "execution_count": 1,
   "metadata": {},
   "outputs": [
    {
     "name": "stdout",
     "output_type": "stream",
     "text": [
      "Requirement already satisfied: deepspeech in d:\\anaconda3\\lib\\site-packages (0.8.2)\n",
      "Requirement already satisfied: numpy<=1.17.0,>=1.14.5 in d:\\anaconda3\\lib\\site-packages (from deepspeech) (1.17.0)\n"
     ]
    }
   ],
   "source": [
    "!pip install deepspeech"
   ]
  },
  {
   "cell_type": "code",
   "execution_count": 2,
   "metadata": {},
   "outputs": [
    {
     "data": {
      "text/plain": [
       "0"
      ]
     },
     "execution_count": 2,
     "metadata": {},
     "output_type": "execute_result"
    }
   ],
   "source": [
    "from deepspeech import Model\n",
    "import numpy as np\n",
    "import os\n",
    "import wave\n",
    "from IPython.display import Audio\n",
    "\n",
    "model_file_path='D:/VISA/Visa Work/deepspeech-0.9.3-models.pbmm'\n",
    "lm_file_path='D:/VISA/Visa Work/deepspeech-0.9.3-models.scorer'\n",
    "beam_width=500\n",
    "lm_alpha=0.93\n",
    "lm_beta=1.18\n",
    "\n",
    "model=Model(model_file_path)\n",
    "model.enableExternalScorer(lm_file_path)\n",
    "\n",
    "model.setScorerAlphaBeta(lm_alpha,lm_beta)\n",
    "model.setBeamWidth(beam_width)\n",
    "\n"
   ]
  },
  {
   "cell_type": "code",
   "execution_count": 3,
   "metadata": {},
   "outputs": [],
   "source": [
    "def read_wav_file(filename):\n",
    "  with wave.open(filename,'rb')as w:\n",
    "    rate=w.getframerate()\n",
    "    frames=w.getnframes()\n",
    "    buffer=w.readframes(frames)\n",
    "    print(rate)\n",
    "    print(frames)\n",
    "  return buffer,rate\n",
    "  \n"
   ]
  },
  {
   "cell_type": "code",
   "execution_count": 4,
   "metadata": {},
   "outputs": [],
   "source": [
    "def transcribe(audio_file):\n",
    "  buffer,rate=read_wav_file(audio_file)\n",
    "  data16=np.frombuffer(buffer,dtype=np.int16)\n",
    "  return model.stt(data16)"
   ]
  },
  {
   "cell_type": "code",
   "execution_count": 5,
   "metadata": {},
   "outputs": [
    {
     "name": "stdout",
     "output_type": "stream",
     "text": [
      "Requirement already satisfied: sounddevice in d:\\anaconda3\\lib\\site-packages (0.4.1)\n",
      "Requirement already satisfied: CFFI>=1.0 in d:\\anaconda3\\lib\\site-packages (from sounddevice) (1.12.3)\n",
      "Requirement already satisfied: pycparser in d:\\anaconda3\\lib\\site-packages (from CFFI>=1.0->sounddevice) (2.19)\n",
      "Note: you may need to restart the kernel to use updated packages.\n"
     ]
    }
   ],
   "source": [
    "pip install sounddevice\n"
   ]
  },
  {
   "cell_type": "code",
   "execution_count": 6,
   "metadata": {},
   "outputs": [
    {
     "name": "stdout",
     "output_type": "stream",
     "text": [
      "Requirement already satisfied: wavio in d:\\anaconda3\\lib\\site-packages (0.0.4)\n",
      "Requirement already satisfied: numpy>=1.6.0 in d:\\anaconda3\\lib\\site-packages (from wavio) (1.17.0)\n",
      "Note: you may need to restart the kernel to use updated packages.\n"
     ]
    }
   ],
   "source": [
    "pip install wavio"
   ]
  },
  {
   "cell_type": "code",
   "execution_count": 19,
   "metadata": {},
   "outputs": [
    {
     "name": "stdout",
     "output_type": "stream",
     "text": [
      "Recording\n",
      "Recording Stopped\n"
     ]
    }
   ],
   "source": [
    "import sounddevice as sd\n",
    "\n",
    "import wavio as wv\n",
    "# Sampling frequency\n",
    "freq = 44100\n",
    "\n",
    "# Recording duration\n",
    "duration = 10\n",
    "# Start recorder with the given values of \n",
    "# duration and sample frequency\n",
    "recording = sd.rec(int(duration * freq), \n",
    "                   samplerate=freq, channels=2)\n",
    "print('Recording')\n",
    "# Record audio for the given number of seconds\n",
    "sd.wait()\n",
    "# This will convert the NumPy array to an audio\n",
    "# file with the given sampling frequency\n",
    "print('Recording Stopped')\n",
    "wv.write(\"recording1.wav\", recording, freq, sampwidth=2)\n",
    "\n"
   ]
  },
  {
   "cell_type": "code",
   "execution_count": null,
   "metadata": {},
   "outputs": [
    {
     "name": "stdout",
     "output_type": "stream",
     "text": [
      "44100\n",
      "441000\n"
     ]
    }
   ],
   "source": [
    "transcribe('C:/Users/Akash Visa/recording1.wav')"
   ]
  },
  {
   "cell_type": "code",
   "execution_count": 18,
   "metadata": {},
   "outputs": [
    {
     "ename": "FileNotFoundError",
     "evalue": "[WinError 2] The system cannot find the file specified: 'recording1.wav'",
     "output_type": "error",
     "traceback": [
      "\u001b[1;31m---------------------------------------------------------------------------\u001b[0m",
      "\u001b[1;31mFileNotFoundError\u001b[0m                         Traceback (most recent call last)",
      "\u001b[1;32m<ipython-input-18-2afe62f1741b>\u001b[0m in \u001b[0;36m<module>\u001b[1;34m\u001b[0m\n\u001b[0;32m      1\u001b[0m \u001b[1;32mimport\u001b[0m \u001b[0mos\u001b[0m\u001b[1;33m\u001b[0m\u001b[1;33m\u001b[0m\u001b[0m\n\u001b[1;32m----> 2\u001b[1;33m \u001b[0mos\u001b[0m\u001b[1;33m.\u001b[0m\u001b[0mremove\u001b[0m\u001b[1;33m(\u001b[0m\u001b[1;34m\"recording1.wav\"\u001b[0m\u001b[1;33m)\u001b[0m\u001b[1;33m\u001b[0m\u001b[1;33m\u001b[0m\u001b[0m\n\u001b[0m",
      "\u001b[1;31mFileNotFoundError\u001b[0m: [WinError 2] The system cannot find the file specified: 'recording1.wav'"
     ]
    }
   ],
   "source": [
    "import os\n",
    "os.remove(\"recording1.wav\")"
   ]
  },
  {
   "cell_type": "code",
   "execution_count": null,
   "metadata": {},
   "outputs": [],
   "source": []
  }
 ],
 "metadata": {
  "kernelspec": {
   "display_name": "Python 3",
   "language": "python",
   "name": "python3"
  },
  "language_info": {
   "codemirror_mode": {
    "name": "ipython",
    "version": 3
   },
   "file_extension": ".py",
   "mimetype": "text/x-python",
   "name": "python",
   "nbconvert_exporter": "python",
   "pygments_lexer": "ipython3",
   "version": "3.7.4"
  }
 },
 "nbformat": 4,
 "nbformat_minor": 2
}
